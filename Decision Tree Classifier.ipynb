{
 "cells": [
  {
   "cell_type": "code",
   "execution_count": 1,
   "metadata": {},
   "outputs": [],
   "source": [
    "import pandas as pd\n",
    "import numpy as np\n",
    "import sklearn\n",
    "from sklearn.tree import DecisionTreeClassifier # Import Decision Tree Classifier\n",
    "from sklearn.model_selection import train_test_split # Import train_test_split function\n",
    "from sklearn import metrics"
   ]
  },
  {
   "cell_type": "code",
   "execution_count": 2,
   "metadata": {},
   "outputs": [],
   "source": [
    "col_names = ['Age', 'Gender', 'Polyuria', 'Polydipsia', 'sudden weight loss', 'weakness', 'Polyphagia', 'Genital thrush', 'visual blurring', 'Itching', 'Irritability', 'delayed healing', 'partial paresis', 'muscle stiffness', 'Alopecia', 'Obesity', 'class']\n"
   ]
  },
  {
   "cell_type": "code",
   "execution_count": 3,
   "metadata": {},
   "outputs": [],
   "source": [
    "data = pd.read_csv(\"diabetes_data_upload.csv\", header=None, names=col_names)"
   ]
  },
  {
   "cell_type": "code",
   "execution_count": 4,
   "metadata": {},
   "outputs": [
    {
     "name": "stdout",
     "output_type": "stream",
     "text": [
      "     Age  Gender  Polyuria  Polydipsia  sudden weight loss  weakness  \\\n",
      "0    Age  Gender  Polyuria  Polydipsia  sudden weight loss  weakness   \n",
      "1     40    Male        No         Yes                  No       Yes   \n",
      "2     58    Male        No          No                  No       Yes   \n",
      "3     41    Male       Yes          No                  No       Yes   \n",
      "4     45    Male        No          No                 Yes       Yes   \n",
      "..   ...     ...       ...         ...                 ...       ...   \n",
      "516   39  Female       Yes         Yes                 Yes        No   \n",
      "517   48  Female       Yes         Yes                 Yes       Yes   \n",
      "518   58  Female       Yes         Yes                 Yes       Yes   \n",
      "519   32  Female        No          No                  No       Yes   \n",
      "520   42    Male        No          No                  No        No   \n",
      "\n",
      "     Polyphagia  Genital thrush  visual blurring  Itching  Irritability  \\\n",
      "0    Polyphagia  Genital thrush  visual blurring  Itching  Irritability   \n",
      "1            No              No               No      Yes            No   \n",
      "2            No              No              Yes       No            No   \n",
      "3           Yes              No               No      Yes            No   \n",
      "4           Yes             Yes               No      Yes            No   \n",
      "..          ...             ...              ...      ...           ...   \n",
      "516         Yes              No               No      Yes            No   \n",
      "517         Yes              No               No      Yes           Yes   \n",
      "518         Yes              No              Yes       No            No   \n",
      "519          No              No              Yes      Yes            No   \n",
      "520          No              No               No       No            No   \n",
      "\n",
      "     delayed healing  partial paresis  muscle stiffness  Alopecia  Obesity  \\\n",
      "0    delayed healing  partial paresis  muscle stiffness  Alopecia  Obesity   \n",
      "1                Yes               No               Yes       Yes      Yes   \n",
      "2                 No              Yes                No       Yes       No   \n",
      "3                Yes               No               Yes       Yes       No   \n",
      "4                Yes               No                No        No       No   \n",
      "..               ...              ...               ...       ...      ...   \n",
      "516              Yes              Yes                No        No       No   \n",
      "517              Yes              Yes                No        No       No   \n",
      "518               No              Yes               Yes        No      Yes   \n",
      "519              Yes               No                No       Yes       No   \n",
      "520               No               No                No        No       No   \n",
      "\n",
      "        class  \n",
      "0       class  \n",
      "1    Positive  \n",
      "2    Positive  \n",
      "3    Positive  \n",
      "4    Positive  \n",
      "..        ...  \n",
      "516  Positive  \n",
      "517  Positive  \n",
      "518  Positive  \n",
      "519  Negative  \n",
      "520  Negative  \n",
      "\n",
      "[521 rows x 17 columns]\n"
     ]
    }
   ],
   "source": [
    "print(data)"
   ]
  },
  {
   "cell_type": "code",
   "execution_count": 5,
   "metadata": {},
   "outputs": [],
   "source": [
    "attributes = ['Age', 'Gender', 'Polyuria', 'Polydipsia', 'sudden weight loss', 'weakness', 'Polyphagia', 'Genital thrush', 'visual blurring', 'Itching', 'Irritability', 'delayed healing', 'partial paresis', 'muscle stiffness', 'Alopecia', 'Obesity']\n",
    "X = data[attributes]\n",
    "y = data['class']\n"
   ]
  },
  {
   "cell_type": "code",
   "execution_count": 6,
   "metadata": {},
   "outputs": [],
   "source": [
    "X_train, X_test, y_train, y_test = train_test_split(X, y, test_size=0.3, random_state=1)"
   ]
  },
  {
   "cell_type": "code",
   "execution_count": 7,
   "metadata": {},
   "outputs": [
    {
     "name": "stdout",
     "output_type": "stream",
     "text": [
      "    Age  Gender Polyuria Polydipsia sudden weight loss weakness Polyphagia  \\\n",
      "168  41    Male      Yes        Yes                Yes      Yes        Yes   \n",
      "23   39    Male      Yes         No                Yes       No         No   \n",
      "13   35    Male      Yes         No                 No       No        Yes   \n",
      "61   65  Female      Yes        Yes                 No      Yes        Yes   \n",
      "310  30    Male       No         No                 No       No         No   \n",
      "..   ..     ...      ...        ...                ...      ...        ...   \n",
      "129  32    Male       No        Yes                 No      Yes        Yes   \n",
      "144  53    Male      Yes         No                Yes       No         No   \n",
      "72   35  Female       No        Yes                Yes      Yes         No   \n",
      "235  52    Male       No         No                 No      Yes        Yes   \n",
      "37   60    Male      Yes         No                 No       No         No   \n",
      "\n",
      "    Genital thrush visual blurring Itching Irritability delayed healing  \\\n",
      "168            Yes             Yes     Yes          Yes              No   \n",
      "23             Yes              No     Yes          Yes              No   \n",
      "13             Yes              No      No          Yes             Yes   \n",
      "61              No              No     Yes           No              No   \n",
      "310             No              No      No           No              No   \n",
      "..             ...             ...     ...          ...             ...   \n",
      "129            Yes              No     Yes          Yes              No   \n",
      "144             No              No      No           No             Yes   \n",
      "72              No              No     Yes           No             Yes   \n",
      "235             No              No     Yes           No             Yes   \n",
      "37              No             Yes      No           No              No   \n",
      "\n",
      "    partial paresis muscle stiffness Alopecia Obesity  \n",
      "168              No               No       No     Yes  \n",
      "23               No               No      Yes      No  \n",
      "13               No               No      Yes      No  \n",
      "61              Yes              Yes       No      No  \n",
      "310              No               No       No      No  \n",
      "..              ...              ...      ...     ...  \n",
      "129              No               No      Yes      No  \n",
      "144             Yes               No       No      No  \n",
      "72              Yes              Yes       No      No  \n",
      "235              No               No      Yes      No  \n",
      "37              Yes               No      Yes      No  \n",
      "\n",
      "[364 rows x 16 columns]\n"
     ]
    }
   ],
   "source": [
    "print(X_train)"
   ]
  },
  {
   "cell_type": "code",
   "execution_count": 8,
   "metadata": {},
   "outputs": [],
   "source": [
    "X_train = pd.get_dummies(X_train,drop_first=True)\n",
    "X_test = pd.get_dummies(X_test,drop_first =True)"
   ]
  },
  {
   "cell_type": "code",
   "execution_count": 9,
   "metadata": {},
   "outputs": [
    {
     "name": "stdout",
     "output_type": "stream",
     "text": [
      "     Age_25  Age_27  Age_28  Age_29  Age_30  Age_31  Age_32  Age_33  Age_34  \\\n",
      "168       0       0       0       0       0       0       0       0       0   \n",
      "23        0       0       0       0       0       0       0       0       0   \n",
      "13        0       0       0       0       0       0       0       0       0   \n",
      "61        0       0       0       0       0       0       0       0       0   \n",
      "310       0       0       0       0       1       0       0       0       0   \n",
      "..      ...     ...     ...     ...     ...     ...     ...     ...     ...   \n",
      "129       0       0       0       0       0       0       1       0       0   \n",
      "144       0       0       0       0       0       0       0       0       0   \n",
      "72        0       0       0       0       0       0       0       0       0   \n",
      "235       0       0       0       0       0       0       0       0       0   \n",
      "37        0       0       0       0       0       0       0       0       0   \n",
      "\n",
      "     Age_35  ...  delayed healing_Yes  delayed healing_delayed healing  \\\n",
      "168       0  ...                    0                                0   \n",
      "23        0  ...                    0                                0   \n",
      "13        1  ...                    1                                0   \n",
      "61        0  ...                    0                                0   \n",
      "310       0  ...                    0                                0   \n",
      "..      ...  ...                  ...                              ...   \n",
      "129       0  ...                    0                                0   \n",
      "144       0  ...                    1                                0   \n",
      "72        1  ...                    1                                0   \n",
      "235       0  ...                    1                                0   \n",
      "37        0  ...                    0                                0   \n",
      "\n",
      "     partial paresis_Yes  partial paresis_partial paresis  \\\n",
      "168                    0                                0   \n",
      "23                     0                                0   \n",
      "13                     0                                0   \n",
      "61                     1                                0   \n",
      "310                    0                                0   \n",
      "..                   ...                              ...   \n",
      "129                    0                                0   \n",
      "144                    1                                0   \n",
      "72                     1                                0   \n",
      "235                    0                                0   \n",
      "37                     1                                0   \n",
      "\n",
      "     muscle stiffness_Yes  muscle stiffness_muscle stiffness  Alopecia_No  \\\n",
      "168                     0                                  0            1   \n",
      "23                      0                                  0            0   \n",
      "13                      0                                  0            0   \n",
      "61                      1                                  0            1   \n",
      "310                     0                                  0            1   \n",
      "..                    ...                                ...          ...   \n",
      "129                     0                                  0            0   \n",
      "144                     0                                  0            1   \n",
      "72                      1                                  0            1   \n",
      "235                     0                                  0            0   \n",
      "37                      0                                  0            0   \n",
      "\n",
      "     Alopecia_Yes  Obesity_Obesity  Obesity_Yes  \n",
      "168             0                0            1  \n",
      "23              1                0            0  \n",
      "13              1                0            0  \n",
      "61              0                0            0  \n",
      "310             0                0            0  \n",
      "..            ...              ...          ...  \n",
      "129             1                0            0  \n",
      "144             0                0            0  \n",
      "72              0                0            0  \n",
      "235             1                0            0  \n",
      "37              1                0            0  \n",
      "\n",
      "[364 rows x 80 columns]\n"
     ]
    }
   ],
   "source": [
    "print(X_train)"
   ]
  },
  {
   "cell_type": "code",
   "execution_count": 10,
   "metadata": {},
   "outputs": [
    {
     "name": "stdout",
     "output_type": "stream",
     "text": [
      "     Age_28  Age_30  Age_32  Age_33  Age_34  Age_35  Age_36  Age_37  Age_38  \\\n",
      "273       0       0       0       0       0       0       0       0       0   \n",
      "272       0       0       0       0       0       0       0       0       0   \n",
      "329       0       0       0       0       0       0       0       0       0   \n",
      "481       0       0       0       0       0       0       0       0       0   \n",
      "173       0       0       0       0       0       0       0       0       0   \n",
      "..      ...     ...     ...     ...     ...     ...     ...     ...     ...   \n",
      "408       0       0       0       0       0       0       0       0       0   \n",
      "330       0       0       0       0       0       0       0       0       0   \n",
      "257       0       0       0       0       0       0       0       0       0   \n",
      "95        0       0       0       0       0       0       1       0       0   \n",
      "122       0       0       0       0       0       1       0       0       0   \n",
      "\n",
      "     Age_39  ...  Polyphagia_Yes  Genital thrush_Yes  visual blurring_Yes  \\\n",
      "273       0  ...               0                   0                    0   \n",
      "272       0  ...               1                   0                    1   \n",
      "329       0  ...               0                   0                    1   \n",
      "481       0  ...               0                   0                    0   \n",
      "173       0  ...               0                   0                    1   \n",
      "..      ...  ...             ...                 ...                  ...   \n",
      "408       0  ...               0                   1                    0   \n",
      "330       0  ...               1                   0                    1   \n",
      "257       0  ...               1                   0                    0   \n",
      "95        0  ...               1                   0                    1   \n",
      "122       0  ...               1                   1                    0   \n",
      "\n",
      "     Itching_Yes  Irritability_Yes  delayed healing_Yes  partial paresis_Yes  \\\n",
      "273            1                 0                    0                    0   \n",
      "272            0                 0                    0                    1   \n",
      "329            1                 0                    0                    0   \n",
      "481            1                 0                    1                    0   \n",
      "173            0                 0                    0                    1   \n",
      "..           ...               ...                  ...                  ...   \n",
      "408            1                 0                    1                    0   \n",
      "330            1                 0                    1                    0   \n",
      "257            0                 0                    1                    1   \n",
      "95             1                 0                    1                    1   \n",
      "122            1                 0                    1                    1   \n",
      "\n",
      "     muscle stiffness_Yes  Alopecia_Yes  Obesity_Yes  \n",
      "273                     0             1            0  \n",
      "272                     0             0            0  \n",
      "329                     1             0            0  \n",
      "481                     0             1            0  \n",
      "173                     0             1            0  \n",
      "..                    ...           ...          ...  \n",
      "408                     0             1            0  \n",
      "330                     1             1            0  \n",
      "257                     0             0            0  \n",
      "95                      0             0            0  \n",
      "122                     1             0            0  \n",
      "\n",
      "[157 rows x 57 columns]\n"
     ]
    }
   ],
   "source": [
    "print(X_test)"
   ]
  },
  {
   "cell_type": "code",
   "execution_count": 11,
   "metadata": {},
   "outputs": [],
   "source": [
    "\n",
    "final_train, final_test = X_train.align(X_test, join='inner', axis=1)\n"
   ]
  },
  {
   "cell_type": "code",
   "execution_count": 12,
   "metadata": {},
   "outputs": [
    {
     "name": "stdout",
     "output_type": "stream",
     "text": [
      "     Age_28  Age_30  Age_32  Age_33  Age_34  Age_35  Age_36  Age_37  Age_38  \\\n",
      "168       0       0       0       0       0       0       0       0       0   \n",
      "23        0       0       0       0       0       0       0       0       0   \n",
      "13        0       0       0       0       0       1       0       0       0   \n",
      "61        0       0       0       0       0       0       0       0       0   \n",
      "310       0       1       0       0       0       0       0       0       0   \n",
      "..      ...     ...     ...     ...     ...     ...     ...     ...     ...   \n",
      "129       0       0       1       0       0       0       0       0       0   \n",
      "144       0       0       0       0       0       0       0       0       0   \n",
      "72        0       0       0       0       0       1       0       0       0   \n",
      "235       0       0       0       0       0       0       0       0       0   \n",
      "37        0       0       0       0       0       0       0       0       0   \n",
      "\n",
      "     Age_39  ...  Polyphagia_Yes  Genital thrush_Yes  visual blurring_Yes  \\\n",
      "168       0  ...               1                   1                    1   \n",
      "23        1  ...               0                   1                    0   \n",
      "13        0  ...               1                   1                    0   \n",
      "61        0  ...               1                   0                    0   \n",
      "310       0  ...               0                   0                    0   \n",
      "..      ...  ...             ...                 ...                  ...   \n",
      "129       0  ...               1                   1                    0   \n",
      "144       0  ...               0                   0                    0   \n",
      "72        0  ...               0                   0                    0   \n",
      "235       0  ...               1                   0                    0   \n",
      "37        0  ...               0                   0                    1   \n",
      "\n",
      "     Itching_Yes  Irritability_Yes  delayed healing_Yes  partial paresis_Yes  \\\n",
      "168            1                 1                    0                    0   \n",
      "23             1                 1                    0                    0   \n",
      "13             0                 1                    1                    0   \n",
      "61             1                 0                    0                    1   \n",
      "310            0                 0                    0                    0   \n",
      "..           ...               ...                  ...                  ...   \n",
      "129            1                 1                    0                    0   \n",
      "144            0                 0                    1                    1   \n",
      "72             1                 0                    1                    1   \n",
      "235            1                 0                    1                    0   \n",
      "37             0                 0                    0                    1   \n",
      "\n",
      "     muscle stiffness_Yes  Alopecia_Yes  Obesity_Yes  \n",
      "168                     0             0            1  \n",
      "23                      0             1            0  \n",
      "13                      0             1            0  \n",
      "61                      1             0            0  \n",
      "310                     0             0            0  \n",
      "..                    ...           ...          ...  \n",
      "129                     0             1            0  \n",
      "144                     0             0            0  \n",
      "72                      1             0            0  \n",
      "235                     0             1            0  \n",
      "37                      0             1            0  \n",
      "\n",
      "[364 rows x 57 columns]\n",
      "     Age_28  Age_30  Age_32  Age_33  Age_34  Age_35  Age_36  Age_37  Age_38  \\\n",
      "273       0       0       0       0       0       0       0       0       0   \n",
      "272       0       0       0       0       0       0       0       0       0   \n",
      "329       0       0       0       0       0       0       0       0       0   \n",
      "481       0       0       0       0       0       0       0       0       0   \n",
      "173       0       0       0       0       0       0       0       0       0   \n",
      "..      ...     ...     ...     ...     ...     ...     ...     ...     ...   \n",
      "408       0       0       0       0       0       0       0       0       0   \n",
      "330       0       0       0       0       0       0       0       0       0   \n",
      "257       0       0       0       0       0       0       0       0       0   \n",
      "95        0       0       0       0       0       0       1       0       0   \n",
      "122       0       0       0       0       0       1       0       0       0   \n",
      "\n",
      "     Age_39  ...  Polyphagia_Yes  Genital thrush_Yes  visual blurring_Yes  \\\n",
      "273       0  ...               0                   0                    0   \n",
      "272       0  ...               1                   0                    1   \n",
      "329       0  ...               0                   0                    1   \n",
      "481       0  ...               0                   0                    0   \n",
      "173       0  ...               0                   0                    1   \n",
      "..      ...  ...             ...                 ...                  ...   \n",
      "408       0  ...               0                   1                    0   \n",
      "330       0  ...               1                   0                    1   \n",
      "257       0  ...               1                   0                    0   \n",
      "95        0  ...               1                   0                    1   \n",
      "122       0  ...               1                   1                    0   \n",
      "\n",
      "     Itching_Yes  Irritability_Yes  delayed healing_Yes  partial paresis_Yes  \\\n",
      "273            1                 0                    0                    0   \n",
      "272            0                 0                    0                    1   \n",
      "329            1                 0                    0                    0   \n",
      "481            1                 0                    1                    0   \n",
      "173            0                 0                    0                    1   \n",
      "..           ...               ...                  ...                  ...   \n",
      "408            1                 0                    1                    0   \n",
      "330            1                 0                    1                    0   \n",
      "257            0                 0                    1                    1   \n",
      "95             1                 0                    1                    1   \n",
      "122            1                 0                    1                    1   \n",
      "\n",
      "     muscle stiffness_Yes  Alopecia_Yes  Obesity_Yes  \n",
      "273                     0             1            0  \n",
      "272                     0             0            0  \n",
      "329                     1             0            0  \n",
      "481                     0             1            0  \n",
      "173                     0             1            0  \n",
      "..                    ...           ...          ...  \n",
      "408                     0             1            0  \n",
      "330                     1             1            0  \n",
      "257                     0             0            0  \n",
      "95                      0             0            0  \n",
      "122                     1             0            0  \n",
      "\n",
      "[157 rows x 57 columns]\n"
     ]
    }
   ],
   "source": [
    "print(final_train)\n",
    "print(final_test)"
   ]
  },
  {
   "cell_type": "code",
   "execution_count": 13,
   "metadata": {},
   "outputs": [],
   "source": [
    "clf = DecisionTreeClassifier()\n",
    "clf = clf.fit(final_train, y_train)\n"
   ]
  },
  {
   "cell_type": "code",
   "execution_count": 14,
   "metadata": {},
   "outputs": [],
   "source": [
    "y_pred = clf.predict(final_test)"
   ]
  },
  {
   "cell_type": "code",
   "execution_count": 15,
   "metadata": {},
   "outputs": [
    {
     "name": "stdout",
     "output_type": "stream",
     "text": [
      "['Negative' 'Positive' 'Negative' 'Negative' 'Positive' 'Positive'\n",
      " 'Negative' 'Positive' 'Negative' 'Positive' 'Negative' 'Negative'\n",
      " 'Positive' 'Positive' 'Negative' 'Positive' 'Negative' 'Negative'\n",
      " 'Positive' 'Positive' 'Positive' 'Negative' 'Positive' 'Negative'\n",
      " 'Positive' 'Negative' 'Positive' 'Positive' 'Negative' 'Positive'\n",
      " 'Positive' 'Positive' 'Positive' 'Positive' 'Positive' 'Positive'\n",
      " 'Positive' 'Negative' 'Negative' 'Positive' 'Negative' 'Negative'\n",
      " 'Negative' 'Positive' 'Positive' 'Positive' 'Positive' 'Positive'\n",
      " 'Positive' 'Positive' 'Negative' 'Positive' 'Positive' 'Positive'\n",
      " 'Positive' 'Positive' 'Negative' 'Positive' 'Negative' 'Negative'\n",
      " 'Positive' 'Positive' 'Positive' 'Positive' 'Positive' 'Negative'\n",
      " 'Positive' 'Negative' 'Negative' 'Positive' 'Positive' 'Positive'\n",
      " 'Negative' 'Positive' 'Negative' 'Positive' 'Positive' 'Positive'\n",
      " 'Negative' 'Positive' 'Positive' 'Positive' 'Positive' 'Negative'\n",
      " 'Positive' 'Positive' 'Negative' 'Positive' 'Positive' 'Positive'\n",
      " 'Positive' 'Negative' 'Negative' 'Positive' 'Positive' 'Positive'\n",
      " 'Positive' 'Positive' 'Positive' 'Positive' 'Positive' 'Positive'\n",
      " 'Positive' 'Positive' 'Negative' 'Positive' 'Positive' 'Positive'\n",
      " 'Negative' 'Negative' 'Positive' 'Positive' 'Positive' 'Negative'\n",
      " 'Positive' 'Positive' 'Negative' 'Negative' 'Positive' 'Positive'\n",
      " 'Negative' 'Positive' 'Positive' 'Positive' 'Negative' 'Positive'\n",
      " 'Positive' 'Negative' 'Positive' 'Positive' 'Negative' 'Negative'\n",
      " 'Negative' 'Positive' 'Positive' 'Positive' 'Positive' 'Negative'\n",
      " 'Positive' 'Negative' 'Positive' 'Positive' 'Negative' 'Negative'\n",
      " 'Positive' 'Positive' 'Negative' 'Negative' 'Positive' 'Positive'\n",
      " 'Negative' 'Negative' 'Negative' 'Negative' 'Positive' 'Positive'\n",
      " 'Positive']\n"
     ]
    }
   ],
   "source": [
    "print(y_pred)"
   ]
  },
  {
   "cell_type": "code",
   "execution_count": 16,
   "metadata": {},
   "outputs": [
    {
     "name": "stdout",
     "output_type": "stream",
     "text": [
      "Accuracy: 0.9554140127388535\n"
     ]
    }
   ],
   "source": [
    "print(\"Accuracy:\",metrics.accuracy_score(y_test, y_pred))"
   ]
  },
  {
   "cell_type": "code",
   "execution_count": null,
   "metadata": {},
   "outputs": [],
   "source": []
  }
 ],
 "metadata": {
  "kernelspec": {
   "display_name": "Python 3",
   "language": "python",
   "name": "python3"
  },
  "language_info": {
   "codemirror_mode": {
    "name": "ipython",
    "version": 3
   },
   "file_extension": ".py",
   "mimetype": "text/x-python",
   "name": "python",
   "nbconvert_exporter": "python",
   "pygments_lexer": "ipython3",
   "version": "3.8.1"
  }
 },
 "nbformat": 4,
 "nbformat_minor": 4
}
