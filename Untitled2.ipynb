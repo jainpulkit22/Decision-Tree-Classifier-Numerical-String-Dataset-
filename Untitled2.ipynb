{
 "cells": [
  {
   "cell_type": "code",
   "execution_count": 58,
   "metadata": {},
   "outputs": [],
   "source": [
    "import pandas as pd"
   ]
  },
  {
   "cell_type": "code",
   "execution_count": 59,
   "metadata": {},
   "outputs": [],
   "source": [
    "col_names = ['Age', 'Gender', 'Polyuria', 'Polydipsia', 'sudden weight loss', 'weakness', 'Polyphagia', 'Genital thrush', 'visual blurring', 'Itching', 'Irritability', 'delayed healing', 'partial paresis', 'muscle stiffness', 'Alopecia', 'Obesity', 'class']\n",
    "data = pd.read_csv(\"diabetes_data_upload.csv\", header=None, names=col_names)"
   ]
  },
  {
   "cell_type": "code",
   "execution_count": 60,
   "metadata": {},
   "outputs": [
    {
     "name": "stdout",
     "output_type": "stream",
     "text": [
      "     Age  Gender  Polyuria  Polydipsia  sudden weight loss  weakness  \\\n",
      "0    Age  Gender  Polyuria  Polydipsia  sudden weight loss  weakness   \n",
      "1     40    Male        No         Yes                  No       Yes   \n",
      "2     58    Male        No          No                  No       Yes   \n",
      "3     41    Male       Yes          No                  No       Yes   \n",
      "4     45    Male        No          No                 Yes       Yes   \n",
      "..   ...     ...       ...         ...                 ...       ...   \n",
      "516   39  Female       Yes         Yes                 Yes        No   \n",
      "517   48  Female       Yes         Yes                 Yes       Yes   \n",
      "518   58  Female       Yes         Yes                 Yes       Yes   \n",
      "519   32  Female        No          No                  No       Yes   \n",
      "520   42    Male        No          No                  No        No   \n",
      "\n",
      "     Polyphagia  Genital thrush  visual blurring  Itching  Irritability  \\\n",
      "0    Polyphagia  Genital thrush  visual blurring  Itching  Irritability   \n",
      "1            No              No               No      Yes            No   \n",
      "2            No              No              Yes       No            No   \n",
      "3           Yes              No               No      Yes            No   \n",
      "4           Yes             Yes               No      Yes            No   \n",
      "..          ...             ...              ...      ...           ...   \n",
      "516         Yes              No               No      Yes            No   \n",
      "517         Yes              No               No      Yes           Yes   \n",
      "518         Yes              No              Yes       No            No   \n",
      "519          No              No              Yes      Yes            No   \n",
      "520          No              No               No       No            No   \n",
      "\n",
      "     delayed healing  partial paresis  muscle stiffness  Alopecia  Obesity  \\\n",
      "0    delayed healing  partial paresis  muscle stiffness  Alopecia  Obesity   \n",
      "1                Yes               No               Yes       Yes      Yes   \n",
      "2                 No              Yes                No       Yes       No   \n",
      "3                Yes               No               Yes       Yes       No   \n",
      "4                Yes               No                No        No       No   \n",
      "..               ...              ...               ...       ...      ...   \n",
      "516              Yes              Yes                No        No       No   \n",
      "517              Yes              Yes                No        No       No   \n",
      "518               No              Yes               Yes        No      Yes   \n",
      "519              Yes               No                No       Yes       No   \n",
      "520               No               No                No        No       No   \n",
      "\n",
      "        class  \n",
      "0       class  \n",
      "1    Positive  \n",
      "2    Positive  \n",
      "3    Positive  \n",
      "4    Positive  \n",
      "..        ...  \n",
      "516  Positive  \n",
      "517  Positive  \n",
      "518  Positive  \n",
      "519  Negative  \n",
      "520  Negative  \n",
      "\n",
      "[521 rows x 17 columns]\n"
     ]
    }
   ],
   "source": [
    "print(data)"
   ]
  },
  {
   "cell_type": "code",
   "execution_count": 61,
   "metadata": {},
   "outputs": [],
   "source": [
    "attributes = ['Age', 'Gender', 'Polyuria', 'Polydipsia', 'sudden weight loss', 'weakness', 'Polyphagia', 'Genital thrush', 'visual blurring', 'Itching', 'Irritability', 'delayed healing', 'partial paresis', 'muscle stiffness', 'Alopecia', 'Obesity']\n",
    "X = data[attributes]\n",
    "y = data['class']"
   ]
  },
  {
   "cell_type": "code",
   "execution_count": 62,
   "metadata": {},
   "outputs": [
    {
     "name": "stdout",
     "output_type": "stream",
     "text": [
      "     Age  Gender  Polyuria  Polydipsia  sudden weight loss  weakness  \\\n",
      "0    Age  Gender  Polyuria  Polydipsia  sudden weight loss  weakness   \n",
      "1     40    Male        No         Yes                  No       Yes   \n",
      "2     58    Male        No          No                  No       Yes   \n",
      "3     41    Male       Yes          No                  No       Yes   \n",
      "4     45    Male        No          No                 Yes       Yes   \n",
      "..   ...     ...       ...         ...                 ...       ...   \n",
      "516   39  Female       Yes         Yes                 Yes        No   \n",
      "517   48  Female       Yes         Yes                 Yes       Yes   \n",
      "518   58  Female       Yes         Yes                 Yes       Yes   \n",
      "519   32  Female        No          No                  No       Yes   \n",
      "520   42    Male        No          No                  No        No   \n",
      "\n",
      "     Polyphagia  Genital thrush  visual blurring  Itching  Irritability  \\\n",
      "0    Polyphagia  Genital thrush  visual blurring  Itching  Irritability   \n",
      "1            No              No               No      Yes            No   \n",
      "2            No              No              Yes       No            No   \n",
      "3           Yes              No               No      Yes            No   \n",
      "4           Yes             Yes               No      Yes            No   \n",
      "..          ...             ...              ...      ...           ...   \n",
      "516         Yes              No               No      Yes            No   \n",
      "517         Yes              No               No      Yes           Yes   \n",
      "518         Yes              No              Yes       No            No   \n",
      "519          No              No              Yes      Yes            No   \n",
      "520          No              No               No       No            No   \n",
      "\n",
      "     delayed healing  partial paresis  muscle stiffness  Alopecia  Obesity  \n",
      "0    delayed healing  partial paresis  muscle stiffness  Alopecia  Obesity  \n",
      "1                Yes               No               Yes       Yes      Yes  \n",
      "2                 No              Yes                No       Yes       No  \n",
      "3                Yes               No               Yes       Yes       No  \n",
      "4                Yes               No                No        No       No  \n",
      "..               ...              ...               ...       ...      ...  \n",
      "516              Yes              Yes                No        No       No  \n",
      "517              Yes              Yes                No        No       No  \n",
      "518               No              Yes               Yes        No      Yes  \n",
      "519              Yes               No                No       Yes       No  \n",
      "520               No               No                No        No       No  \n",
      "\n",
      "[521 rows x 16 columns]\n"
     ]
    }
   ],
   "source": [
    "print(X)"
   ]
  },
  {
   "cell_type": "code",
   "execution_count": 63,
   "metadata": {},
   "outputs": [
    {
     "name": "stdout",
     "output_type": "stream",
     "text": [
      "0         class\n",
      "1      Positive\n",
      "2      Positive\n",
      "3      Positive\n",
      "4      Positive\n",
      "         ...   \n",
      "516    Positive\n",
      "517    Positive\n",
      "518    Positive\n",
      "519    Negative\n",
      "520    Negative\n",
      "Name: class, Length: 521, dtype: object\n"
     ]
    }
   ],
   "source": [
    "print(y)"
   ]
  },
  {
   "cell_type": "code",
   "execution_count": 64,
   "metadata": {},
   "outputs": [],
   "source": [
    "from sklearn import preprocessing"
   ]
  },
  {
   "cell_type": "code",
   "execution_count": 65,
   "metadata": {},
   "outputs": [],
   "source": [
    "le = preprocessing.LabelEncoder()\n",
    "data['Age'] = le.fit_transform(data['Age'])\n",
    "data['Gender'] = le.fit_transform(data['Gender'])\n",
    "data['Polyuria'] = le.fit_transform(data['Polyuria'])\n",
    "data['Polydipsia'] = le.fit_transform(data['Polydipsia'])\n",
    "data['sudden weight loss'] = le.fit_transform(data['sudden weight loss'])\n",
    "data['weakness'] = le.fit_transform(data['weakness'])\n",
    "data['Polyphagia'] = le.fit_transform(data['Polyphagia'])\n",
    "data['Genital thrush'] = le.fit_transform(data['Genital thrush'])\n",
    "data['visual blurring'] = le.fit_transform(data['visual blurring'])\n",
    "data['Itching'] = le.fit_transform(data['Itching'])\n",
    "data['Irritability'] = le.fit_transform(data['Irritability'])\n",
    "data['delayed healing'] = le.fit_transform(data['delayed healing'])\n",
    "data['partial paresis'] = le.fit_transform(data['partial paresis'])\n",
    "data['muscle stiffness'] = le.fit_transform(data['muscle stiffness'])\n",
    "data['Alopecia'] = le.fit_transform(data['Alopecia'])\n",
    "data['Obesity'] = le.fit_transform(data['Obesity'])"
   ]
  },
  {
   "cell_type": "code",
   "execution_count": 66,
   "metadata": {},
   "outputs": [],
   "source": [
    "X = data[attributes]"
   ]
  },
  {
   "cell_type": "code",
   "execution_count": 67,
   "metadata": {},
   "outputs": [
    {
     "name": "stdout",
     "output_type": "stream",
     "text": [
      "     Age  Gender  Polyuria  Polydipsia  sudden weight loss  weakness  \\\n",
      "0     51       1         1           1                   2         2   \n",
      "1     16       2         0           2                   0         1   \n",
      "2     34       2         0           0                   0         1   \n",
      "3     17       2         2           0                   0         1   \n",
      "4     21       2         0           0                   1         1   \n",
      "..   ...     ...       ...         ...                 ...       ...   \n",
      "516   15       0         2           2                   1         0   \n",
      "517   24       0         2           2                   1         1   \n",
      "518   34       0         2           2                   1         1   \n",
      "519    8       0         0           0                   0         1   \n",
      "520   18       2         0           0                   0         0   \n",
      "\n",
      "     Polyphagia  Genital thrush  visual blurring  Itching  Irritability  \\\n",
      "0             1               0                2        0             0   \n",
      "1             0               1                0        2             1   \n",
      "2             0               1                1        1             1   \n",
      "3             2               1                0        2             1   \n",
      "4             2               2                0        2             1   \n",
      "..          ...             ...              ...      ...           ...   \n",
      "516           2               1                0        2             1   \n",
      "517           2               1                0        2             2   \n",
      "518           2               1                1        1             1   \n",
      "519           0               1                1        2             1   \n",
      "520           0               1                0        1             1   \n",
      "\n",
      "     delayed healing  partial paresis  muscle stiffness  Alopecia  Obesity  \n",
      "0                  2                2                 2         0        1  \n",
      "1                  1                0                 1         2        2  \n",
      "2                  0                1                 0         2        0  \n",
      "3                  1                0                 1         2        0  \n",
      "4                  1                0                 0         1        0  \n",
      "..               ...              ...               ...       ...      ...  \n",
      "516                1                1                 0         1        0  \n",
      "517                1                1                 0         1        0  \n",
      "518                0                1                 1         1        2  \n",
      "519                1                0                 0         2        0  \n",
      "520                0                0                 0         1        0  \n",
      "\n",
      "[521 rows x 16 columns]\n"
     ]
    }
   ],
   "source": [
    "print(X)"
   ]
  },
  {
   "cell_type": "code",
   "execution_count": 68,
   "metadata": {},
   "outputs": [],
   "source": [
    "from sklearn.model_selection import train_test_split "
   ]
  },
  {
   "cell_type": "code",
   "execution_count": 69,
   "metadata": {},
   "outputs": [],
   "source": [
    "X_train, X_test, y_train, y_test = train_test_split(X, y, test_size=0.2, random_state=1)"
   ]
  },
  {
   "cell_type": "code",
   "execution_count": 70,
   "metadata": {},
   "outputs": [],
   "source": [
    "from sklearn.tree import DecisionTreeClassifier "
   ]
  },
  {
   "cell_type": "code",
   "execution_count": 71,
   "metadata": {},
   "outputs": [],
   "source": [
    "clf = DecisionTreeClassifier()\n",
    "clf = clf.fit(X_train, y_train)\n",
    "y_pred = clf.predict(X_test)"
   ]
  },
  {
   "cell_type": "code",
   "execution_count": 72,
   "metadata": {},
   "outputs": [
    {
     "name": "stdout",
     "output_type": "stream",
     "text": [
      "['Negative' 'Positive' 'Negative' 'Negative' 'Positive' 'Positive'\n",
      " 'Negative' 'Positive' 'Negative' 'Positive' 'Negative' 'Negative'\n",
      " 'Positive' 'Positive' 'Negative' 'Positive' 'Negative' 'Negative'\n",
      " 'Positive' 'Positive' 'Positive' 'Negative' 'Positive' 'Negative'\n",
      " 'Positive' 'Negative' 'Positive' 'Positive' 'Negative' 'Positive'\n",
      " 'Positive' 'Positive' 'Positive' 'Positive' 'Positive' 'Positive'\n",
      " 'Positive' 'Negative' 'Negative' 'Positive' 'Negative' 'Negative'\n",
      " 'Negative' 'Positive' 'Positive' 'Positive' 'Positive' 'Positive'\n",
      " 'Positive' 'Positive' 'Negative' 'Positive' 'Positive' 'Positive'\n",
      " 'Positive' 'Positive' 'Negative' 'Positive' 'Negative' 'Negative'\n",
      " 'Positive' 'Negative' 'Positive' 'Positive' 'Positive' 'Negative'\n",
      " 'Positive' 'Negative' 'Negative' 'Positive' 'Positive' 'Positive'\n",
      " 'Positive' 'Positive' 'Negative' 'Positive' 'Positive' 'Positive'\n",
      " 'Negative' 'Positive' 'Positive' 'Positive' 'Positive' 'Negative'\n",
      " 'Positive' 'Negative' 'Negative' 'Positive' 'Positive' 'Positive'\n",
      " 'Positive' 'Negative' 'Negative' 'Positive' 'Positive' 'Positive'\n",
      " 'Positive' 'Positive' 'Positive' 'Positive' 'Positive' 'Positive'\n",
      " 'Positive' 'Positive' 'Negative']\n"
     ]
    }
   ],
   "source": [
    "print(y_pred)"
   ]
  },
  {
   "cell_type": "code",
   "execution_count": 73,
   "metadata": {},
   "outputs": [],
   "source": [
    "from sklearn import metrics"
   ]
  },
  {
   "cell_type": "code",
   "execution_count": 74,
   "metadata": {},
   "outputs": [
    {
     "name": "stdout",
     "output_type": "stream",
     "text": [
      "Accuracy: 0.9523809523809523\n"
     ]
    }
   ],
   "source": [
    "print(\"Accuracy:\",metrics.accuracy_score(y_test, y_pred))"
   ]
  },
  {
   "cell_type": "code",
   "execution_count": 75,
   "metadata": {},
   "outputs": [],
   "source": [
    "import graphviz\n",
    "from sklearn import tree"
   ]
  },
  {
   "cell_type": "code",
   "execution_count": 76,
   "metadata": {},
   "outputs": [],
   "source": [
    "class_names  = ['positive', 'negative']"
   ]
  },
  {
   "cell_type": "code",
   "execution_count": 77,
   "metadata": {},
   "outputs": [],
   "source": [
    "dot_data = tree.export_graphviz(clf,\n",
    "                     out_file=\"tree.dot\",\n",
    "                     feature_names = attributes, \n",
    "                     class_names=class_names[1],\n",
    "                     filled = False)"
   ]
  },
  {
   "cell_type": "code",
   "execution_count": 78,
   "metadata": {},
   "outputs": [],
   "source": [
    "import matplotlib.pyplot as plt\n",
    "import seaborn as sns\n",
    "from sklearn.metrics import classification_report, confusion_matrix \n",
    "from sklearn.metrics import precision_recall_curve \n",
    "from sklearn.metrics import average_precision_score\n",
    "from sklearn.metrics import roc_curve, auc"
   ]
  },
  {
   "cell_type": "code",
   "execution_count": 79,
   "metadata": {},
   "outputs": [
    {
     "name": "stdout",
     "output_type": "stream",
     "text": [
      "Confusion matrix plot\n"
     ]
    },
    {
     "data": {
      "image/png": "[encoded data removed]",
      "text/plain": [
       "<Figure size 432x288 with 2 Axes>"
      ]
     },
     "metadata": {
      "needs_background": "light"
     },
     "output_type": "display_data"
    },
    {
     "name": "stdout",
     "output_type": "stream",
     "text": [
      "Classification report\n",
      "              precision    recall  f1-score   support\n",
      "\n",
      "    Negative       0.94      0.92      0.93        36\n",
      "    Positive       0.96      0.97      0.96        69\n",
      "\n",
      "    accuracy                           0.95       105\n",
      "   macro avg       0.95      0.94      0.95       105\n",
      "weighted avg       0.95      0.95      0.95       105\n",
      "\n"
     ]
    }
   ],
   "source": [
    "m=confusion_matrix(y_test,y_pred)\n",
    "print ('Confusion matrix plot')\n",
    "sns.heatmap(confusion_matrix(y_test,y_pred),cmap='rainbow',annot=True,fmt=\"d\")                                                       \n",
    "plt.title('Confusion matrix for Decision Tree classifier')\n",
    "plt.xlabel('Predicted')\n",
    "plt.ylabel('Actual')\n",
    "plt.show()\n",
    "\n",
    "\n",
    "\n",
    "print('Classification report')\n",
    "print(classification_report(y_test,y_pred))"
   ]
  },
  {
   "cell_type": "code",
   "execution_count": 80,
   "metadata": {},
   "outputs": [],
   "source": [
    "y_prob = le.fit_transform(y_pred)\n",
    "y_t = le.fit_transform(y_test)"
   ]
  },
  {
   "cell_type": "code",
   "execution_count": 81,
   "metadata": {},
   "outputs": [
    {
     "data": {
      "image/png": "[encoded data removed]",
      "text/plain": [
       "<Figure size 432x288 with 1 Axes>"
      ]
     },
     "metadata": {
      "needs_background": "light"
     },
     "output_type": "display_data"
    }
   ],
   "source": [
    "precision, recall, thresholds = precision_recall_curve(y_prob, y_t)\n",
    "plt.plot(precision, recall, label='Precision-recall curve')\n",
    "plt.xlabel('Precision')\n",
    "plt.ylabel('Recall')\n",
    "plt.title('Precision-recall curve')\n",
    "plt.legend(loc=\"lower left\")\n",
    "plt.show()"
   ]
  },
  {
   "cell_type": "code",
   "execution_count": 82,
   "metadata": {},
   "outputs": [],
   "source": [
    "def plot_ROC(y_test, y_score, n_classes=2):\n",
    "    # Compute ROC curve and ROC area for each class\n",
    "    fpr = dict()\n",
    "    tpr = dict()\n",
    "    roc_auc = dict()\n",
    "    fpr['positive'], tpr['positive'], _ = roc_curve(y_test, y_score)\n",
    "    roc_auc['positive'] = auc(fpr['positive'], tpr['positive'])\n",
    "\n",
    "    # Compute micro-average ROC curve and ROC area\n",
    "    fpr[\"micro\"], tpr[\"micro\"], _ = roc_curve(y_test.ravel(), y_score.ravel())\n",
    "    roc_auc[\"micro\"] = auc(fpr[\"micro\"], tpr[\"micro\"])\n",
    "    \n",
    "    plt.figure()\n",
    "    lw = 2\n",
    "    plt.plot(fpr['positive'], tpr['positive'], color='darkorange',\n",
    "             lw=lw, label='ROC curve (area = %0.2f)' % roc_auc['positive'])\n",
    "    plt.plot([0, 1], [0, 1], color='navy', lw=lw, linestyle='--')\n",
    "    plt.xlim([0.0, 1.0])\n",
    "    plt.ylim([0.0, 1.05])\n",
    "    plt.xlabel('False Positive Rate')\n",
    "    plt.ylabel('True Positive Rate')\n",
    "    plt.title('Receiver operating characteristic curve')\n",
    "    plt.legend(loc=\"lower right\")\n",
    "    plt.show()"
   ]
  },
  {
   "cell_type": "code",
   "execution_count": 83,
   "metadata": {},
   "outputs": [
    {
     "data": {
      "image/png": "[encoded data removed]",
      "text/plain": [
       "<Figure size 432x288 with 1 Axes>"
      ]
     },
     "metadata": {
      "needs_background": "light"
     },
     "output_type": "display_data"
    }
   ],
   "source": [
    "plot_ROC(y_t, y_prob)"
   ]
  },
  {
   "cell_type": "code",
   "execution_count": null,
   "metadata": {},
   "outputs": [],
   "source": []
  }
 ],
 "metadata": {
  "kernelspec": {
   "display_name": "Python 3",
   "language": "python",
   "name": "python3"
  },
  "language_info": {
   "codemirror_mode": {
    "name": "ipython",
    "version": 3
   },
   "file_extension": ".py",
   "mimetype": "text/x-python",
   "name": "python",
   "nbconvert_exporter": "python",
   "pygments_lexer": "ipython3",
   "version": "3.8.1"
  }
 },
 "nbformat": 4,
 "nbformat_minor": 4
}
